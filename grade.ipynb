#GRADE CALCULATOR
print("\t\t\t\t\t\tGrade calculator")
sum=0
for i in range(5):
    number=int(input("ENTER THE number of 5 subject for finding grade"))
    sum+=number
print("your total number out of 500 is ",sum)
if sum>450:
    print("GRADE=A")
elif 450<sum>400:
    print("grade=b")
elif 400<sum>350:
    print("GRADE=C")
else:
    print("grade=d")
