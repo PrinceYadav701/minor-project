{
 "cells": [
  {
   "cell_type": "code",
   "execution_count": 40,
   "id": "b32480a1-0b37-4a77-8109-6de6121908ba",
   "metadata": {},
   "outputs": [
    {
     "name": "stdout",
     "output_type": "stream",
     "text": [
      "\t\t\t\t\t\tGrade calculator\n"
     ]
    },
    {
     "name": "stdin",
     "output_type": "stream",
     "text": [
      "ENTER THE number of 5 subject for finding grade 98\n",
      "ENTER THE number of 5 subject for finding grade 98\n",
      "ENTER THE number of 5 subject for finding grade 98\n",
      "ENTER THE number of 5 subject for finding grade 98\n",
      "ENTER THE number of 5 subject for finding grade 98\n"
     ]
    },
    {
     "name": "stdout",
     "output_type": "stream",
     "text": [
      "your total number out of 500 is  490\n",
      "GRADE=A\n"
     ]
    }
   ],
   "source": [
    "#GRADE CALCULATOR\n",
    "print(\"\\t\\t\\t\\t\\t\\tGrade calculator\")\n",
    "sum=0\n",
    "for i in range(5):\n",
    "    number=int(input(\"ENTER THE number of 5 subject for finding grade\"))\n",
    "    sum+=number\n",
    "print(\"your total number out of 500 is \",\n",
    "if sum>450:\n",
    "    print(\"GRADE=A\")\n",
    "elif 450<sum>400:\n",
    "    print(\"grade=b\")\n",
    "elif 400<sum>350:\n",
    "    print(\"GRADE=C\")\n",
    "else:\n",
    "    print(\"grade=d\")"
   ]
  },
  {
   "cell_type": "code",
   "execution_count": 42,
   "id": "0da337e6-414d-4040-8820-b5322e3c9182",
   "metadata": {},
   "outputs": [],
   "source": [
    "#simple calculator\n"
   ]
  },
  {
   "cell_type": "code",
   "execution_count": 44,
   "id": "2c814667-251f-46eb-8710-1e53abf65a74",
   "metadata": {},
   "outputs": [
    {
     "name": "stdout",
     "output_type": "stream",
     "text": [
      "raman10\n"
     ]
    }
   ],
   "source": [
    "a=10\n",
    "print(f'raman{a}')"
   ]
  },
  {
   "cell_type": "code",
   "execution_count": 46,
   "id": "d6a5c0b1-8ba5-4a5f-ae21-8d6883ccec63",
   "metadata": {},
   "outputs": [
    {
     "name": "stdout",
     "output_type": "stream",
     "text": [
      "students\n"
     ]
    }
   ],
   "source": [
    "#default parameter\n",
    "def greet(name=\"guest\"):\n",
    "    print(name)\n",
    "greet(\"students\")"
   ]
  },
  {
   "cell_type": "code",
   "execution_count": 54,
   "id": "96601904-e35e-4e68-a4ae-97313187dbd9",
   "metadata": {},
   "outputs": [
    {
     "name": "stdout",
     "output_type": "stream",
     "text": [
      "Name: Amit,Age: 21\n"
     ]
    }
   ],
   "source": [
    "#keyword argument\n",
    "def student(name,age):\n",
    "    print(f\"Name: {name},Age: {age}\")\n",
    "\n",
    "student(age=21, name=\"Amit\")"
   ]
  },
  {
   "cell_type": "code",
   "execution_count": 1,
   "id": "adba6cc6-d6ca-4fe7-9a35-71180118d1c2",
   "metadata": {},
   "outputs": [
    {
     "name": "stdout",
     "output_type": "stream",
     "text": [
      "Marks are: (35, 67, 89, 75)\n"
     ]
    },
    {
     "ename": "TypeError",
     "evalue": "unsupported operand type(s) for +=: 'int' and 'tuple'",
     "output_type": "error",
     "traceback": [
      "\u001b[1;31m---------------------------------------------------------------------------\u001b[0m",
      "\u001b[1;31mTypeError\u001b[0m                                 Traceback (most recent call last)",
      "Cell \u001b[1;32mIn[1], line 8\u001b[0m\n\u001b[0;32m      6\u001b[0m         \u001b[38;5;28msum\u001b[39m\u001b[38;5;241m+\u001b[39m\u001b[38;5;241m=\u001b[39mmarks\n\u001b[0;32m      7\u001b[0m     \u001b[38;5;28mprint\u001b[39m(\u001b[38;5;124m\"\u001b[39m\u001b[38;5;124mTotal:\u001b[39m\u001b[38;5;124m\"\u001b[39m, \u001b[38;5;28msum\u001b[39m)\n\u001b[1;32m----> 8\u001b[0m total_marks(\u001b[38;5;241m35\u001b[39m,\u001b[38;5;241m67\u001b[39m,\u001b[38;5;241m89\u001b[39m,\u001b[38;5;241m75\u001b[39m)\n",
      "Cell \u001b[1;32mIn[1], line 6\u001b[0m, in \u001b[0;36mtotal_marks\u001b[1;34m(*marks)\u001b[0m\n\u001b[0;32m      4\u001b[0m \u001b[38;5;28mprint\u001b[39m(\u001b[38;5;124m\"\u001b[39m\u001b[38;5;124mMarks are:\u001b[39m\u001b[38;5;124m\"\u001b[39m, marks)\n\u001b[0;32m      5\u001b[0m \u001b[38;5;28;01mfor\u001b[39;00m i \u001b[38;5;129;01min\u001b[39;00m marks:\n\u001b[1;32m----> 6\u001b[0m     \u001b[38;5;28msum\u001b[39m\u001b[38;5;241m+\u001b[39m\u001b[38;5;241m=\u001b[39mmarks\n\u001b[0;32m      7\u001b[0m \u001b[38;5;28mprint\u001b[39m(\u001b[38;5;124m\"\u001b[39m\u001b[38;5;124mTotal:\u001b[39m\u001b[38;5;124m\"\u001b[39m, \u001b[38;5;28msum\u001b[39m)\n",
      "\u001b[1;31mTypeError\u001b[0m: unsupported operand type(s) for +=: 'int' and 'tuple'"
     ]
    }
   ],
   "source": [
    "# Arbitrary ARGUMENT\n",
    "def total_marks(*marks):\n",
    "    sum=0\n",
    "    print(\"Marks are:\", marks)\n",
    "    for i in marks:\n",
    "        sum+=marks\n",
    "    print(\"Total:\", sum)\n",
    "total_marks(35,67,89,75)"
   ]
  },
  {
   "cell_type": "code",
   "execution_count": 74,
   "id": "6735416c-4c80-4f6a-a09a-97d33a43a271",
   "metadata": {},
   "outputs": [
    {
     "name": "stdout",
     "output_type": "stream",
     "text": [
      "name:PRINCE\n",
      "age:18\n",
      "course:BCA\n"
     ]
    }
   ],
   "source": [
    "def profile(**info):\n",
    "    for key, value in info.items():\n",
    "        print(f'{key}:{value}')\n",
    "\n",
    "profile(name=\"PRINCE\",age=18,course=\"BCA\")        "
   ]
  },
  {
   "cell_type": "code",
   "execution_count": 2,
   "id": "892c423f-fc8d-4742-9993-1a8a0e73bf21",
   "metadata": {},
   "outputs": [
    {
     "data": {
      "text/plain": [
       "12"
      ]
     },
     "execution_count": 2,
     "metadata": {},
     "output_type": "execute_result"
    }
   ],
   "source": [
    "#FILE HANDLING\n",
    "a=open(r'D:\\prince\\prince.txt','a')\n",
    "a.write(\"hello world \")\n",
    "# mode=D-READ\n",
    "# W-WRITE\n",
    "# A-APPEND\n",
    "#x for checking existence of file"
   ]
  },
  {
   "cell_type": "code",
   "execution_count": null,
   "id": "3ee21a02-d81b-4063-9d60-47451eb38f14",
   "metadata": {},
   "outputs": [],
   "source": []
  },
  {
   "cell_type": "code",
   "execution_count": null,
   "id": "2d0654ed-eaf8-4cbc-9b67-7e99fc5c4b56",
   "metadata": {},
   "outputs": [],
   "source": []
  },
  {
   "cell_type": "code",
   "execution_count": null,
   "id": "a9b41506-0c91-47a9-a1ed-1ad246d42b99",
   "metadata": {},
   "outputs": [],
   "source": []
  }
 ],
 "metadata": {
  "kernelspec": {
   "display_name": "Python 3 (ipykernel)",
   "language": "python",
   "name": "python3"
  },
  "language_info": {
   "codemirror_mode": {
    "name": "ipython",
    "version": 3
   },
   "file_extension": ".py",
   "mimetype": "text/x-python",
   "name": "python",
   "nbconvert_exporter": "python",
   "pygments_lexer": "ipython3",
   "version": "3.12.4"
  }
 },
 "nbformat": 4,
 "nbformat_minor": 5
}
