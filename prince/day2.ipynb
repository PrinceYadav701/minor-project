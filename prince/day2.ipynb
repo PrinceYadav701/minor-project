{
 "cells": [
  {
   "cell_type": "code",
   "execution_count": 1,
   "id": "ea344713-2bdf-4a6e-85d7-d893fd576dfd",
   "metadata": {},
   "outputs": [
    {
     "name": "stdout",
     "output_type": "stream",
     "text": [
      "PRINCE\n",
      "prince\n",
      "False\n",
      "['prince']\n",
      "prince\n",
      "prince\n",
      "prince singh\n",
      "1\n",
      "-1\n",
      "False\n",
      "0\n",
      "Prince\n",
      "prince\n"
     ]
    }
   ],
   "source": [
    "#DS assignment 1 string\n",
    "#upper\n",
    "a=\"prince\"\n",
    "a=a.upper()\n",
    "print(a)\n",
    "#strip\n",
    "a=\"prince\"\n",
    "a=a.strip()\n",
    "print(a)\n",
    "#startswith\n",
    "a=\"prince\"\n",
    "a=a.startswith(\"y\")\n",
    "print(a)\n",
    "#split\n",
    "a=\"prince\"\n",
    "a=a.split()\n",
    "print(a)\n",
    "#replace\n",
    "a=\"prince\"\n",
    "a=a.replace(\"v\",\"g\")\n",
    "print(a)\n",
    "#lower\n",
    "a=\"prince\"\n",
    "a=a.lower()\n",
    "print(a)\n",
    "#join\n",
    "a=[\"prince\",\"singh\"]\n",
    "a=\" \".join(a)\n",
    "print(a)\n",
    "#index\n",
    "a=\"prince\"\n",
    "a=a.index(\"r\")\n",
    "print(a)\n",
    "#find\n",
    "a=\"prince\"\n",
    "a=a.find(\"u\")\n",
    "print(a)\n",
    "#endswith\n",
    "a=\"prince\"\n",
    "a=a.endswith(\"k\")\n",
    "print(a)\n",
    "#count\n",
    "a=\"aprince\"\n",
    "a=a.count(\"u\")\n",
    "print(a)\n",
    "#capitalize\n",
    "a=\"prince\"\n",
    "a=a.capitalize()\n",
    "print(a)\n",
    "#casefold\n",
    "a=\"prince\"\n",
    "a=a.casefold()\n",
    "print(a)"
   ]
  },
  {
   "cell_type": "code",
   "execution_count": 9,
   "id": "b9cb3cbf-caeb-49e5-a56a-6d78d4758078",
   "metadata": {},
   "outputs": [
    {
     "name": "stdout",
     "output_type": "stream",
     "text": [
      "[[], [[[], [[], [34, 'ansrk']]]]]\n",
      "krsna\n"
     ]
    }
   ],
   "source": [
    "a = [[],[[[],[[],[34,'ansrk']]]]]\n",
    "print(a)\n",
    "print(a[1][0][1][1][1][::-1])"
   ]
  },
  {
   "cell_type": "code",
   "execution_count": 5,
   "id": "7aca8457-f8b7-483a-9c67-74d0224e00bc",
   "metadata": {},
   "outputs": [
    {
     "name": "stdout",
     "output_type": "stream",
     "text": [
      "[[23, [[], [], [[[[], [], [[34, 56, 89]]]]]]]]\n",
      "56\n"
     ]
    }
   ],
   "source": [
    "b = [[23,[[],[],[[[[],[],[[34,56,89]]]]]]]]\n",
    "print(b)\n",
    "print(b[0][1][2][0][0][2][0][1])"
   ]
  },
  {
   "cell_type": "code",
   "execution_count": 7,
   "id": "5d7da91e-77aa-42bf-a823-bed37190892f",
   "metadata": {},
   "outputs": [
    {
     "name": "stdout",
     "output_type": "stream",
     "text": [
      "['Syntax', 'found', [[[[34, 43, 43]], [[], ['Nice', 'error']]]]]\n",
      "error\n"
     ]
    }
   ],
   "source": [
    "c = ['Syntax','found',[[[[34,43,43]],[[],['Nice','error']]]]]\n",
    "print(c)\n",
    "print(c[2][0][1][1][1])"
   ]
  },
  {
   "cell_type": "code",
   "execution_count": 19,
   "id": "1636324d-6870-4b28-8134-36ed67486e74",
   "metadata": {},
   "outputs": [
    {
     "name": "stdout",
     "output_type": "stream",
     "text": [
      "not good\n"
     ]
    }
   ],
   "source": [
    "if 100==10:\n",
    "    print('all good')\n",
    "elif 1000==10:\n",
    "    print(\"correct\")\n",
    "else:\n",
    "    print('not good')"
   ]
  },
  {
   "cell_type": "code",
   "execution_count": 13,
   "id": "e3b03c56-8007-47b1-886a-a91c085bc819",
   "metadata": {},
   "outputs": [
    {
     "name": "stdout",
     "output_type": "stream",
     "text": [
      "hi all\n",
      "time\n",
      "good\n"
     ]
    }
   ],
   "source": [
    "if 200<300:\n",
    "    print('hi all')\n",
    "    if 500!=500:\n",
    "        print('not')\n",
    "    elif 599>200:\n",
    "        print('time')\n",
    "        if 1234==234:\n",
    "            print('hi')\n",
    "        else:\n",
    "            print('good')\n",
    "    else:\n",
    "        print('class')\n",
    "elif 233==233:\n",
    " if 890>89:\n",
    "    print('students')\n",
    " else:\n",
    "    print('last')"
   ]
  },
  {
   "cell_type": "code",
   "execution_count": 46,
   "id": "82921093-6b1f-4a20-884e-13396055af5f",
   "metadata": {},
   "outputs": [
    {
     "name": "stdout",
     "output_type": "stream",
     "text": [
      "\t\t\t\t\t\t welcome to punjab national bank\n"
     ]
    },
    {
     "name": "stdin",
     "output_type": "stream",
     "text": [
      "enter your card card\n"
     ]
    },
    {
     "name": "stdout",
     "output_type": "stream",
     "text": [
      "welcome\n"
     ]
    },
    {
     "name": "stdin",
     "output_type": "stream",
     "text": [
      "enter your pin 1234\n"
     ]
    },
    {
     "name": "stdout",
     "output_type": "stream",
     "text": [
      "\t\t\t\t\t\t1)check balance\n",
      "\t\t\t\t\t\t2)cash withdrawn\n"
     ]
    },
    {
     "name": "stdin",
     "output_type": "stream",
     "text": [
      "select your option 2\n",
      "enter amount 5000\n"
     ]
    },
    {
     "name": "stdout",
     "output_type": "stream",
     "text": [
      "your amount is withdrawn\n",
      "amount left after withdrawn 49995000\n"
     ]
    }
   ],
   "source": [
    "# nested if else ATM\n",
    "print(\"\\t\\t\\t\\t\\t\\t welcome to punjab national bank\")\n",
    "amount=50000000\n",
    "pin=1234\n",
    "if \"card\"==input(\"enter your card\"):\n",
    "    print(\"welcome\")\n",
    "    if pin==int(input(\"enter your pin\")):\n",
    "     print('\\t\\t\\t\\t\\t\\t1)check balance\\n\\t\\t\\t\\t\\t\\t2)cash withdrawn')\n",
    "    option=int(input(\"select your option\"))\n",
    "    if option==1:\n",
    "         print(\"your account balance is =\",amount)\n",
    "    elif option==2:\n",
    "        user_amt=int(input(\"enter amount\"))\n",
    "        print(\"your amount is withdrawn\")\n",
    "        print(\"amount left after withdrawn\",amount-user_amt)\n",
    "    else:\n",
    "        print(\"invalid pin\")\n",
    "else:\n",
    "    print(\"invalid card\")\n",
    "         \n",
    "    \n",
    "\n"
   ]
  },
  {
   "cell_type": "code",
   "execution_count": 90,
   "id": "c6e22295-3fc0-49a1-81cb-c47399433b1c",
   "metadata": {},
   "outputs": [
    {
     "name": "stdout",
     "output_type": "stream",
     "text": [
      "p y t h o n r\n",
      "a\n",
      "m\n",
      "a\n",
      "n\n"
     ]
    }
   ],
   "source": [
    "# for loop string\n",
    "a=\"python\"\n",
    "for i in a:\n",
    "    print(i, end=\" \")\n",
    "for i in \"raman\":\n",
    " print(i)"
   ]
  },
  {
   "cell_type": "code",
   "execution_count": 74,
   "id": "fd5f2460-97ff-4420-a602-590a7390d44a",
   "metadata": {},
   "outputs": [
    {
     "name": "stdout",
     "output_type": "stream",
     "text": [
      "0\n",
      "1\n",
      "2\n",
      "3\n",
      "4\n"
     ]
    }
   ],
   "source": [
    "# for loop integer\n",
    "a=5\n",
    "for i in range(a):\n",
    " print(i)"
   ]
  },
  {
   "cell_type": "code",
   "execution_count": 88,
   "id": "b671fb2a-dd3e-44ae-9c42-0bf42076b727",
   "metadata": {},
   "outputs": [
    {
     "name": "stdout",
     "output_type": "stream",
     "text": [
      "1\n",
      "4\n",
      "7\n",
      "10\n",
      "13\n",
      "16\n",
      "19\n"
     ]
    }
   ],
   "source": [
    "for i in range(1,20,3):\n",
    "    print(i)"
   ]
  },
  {
   "cell_type": "code",
   "execution_count": 106,
   "id": "ecadb29d-c5ba-4cda-a0b8-3f8b01753c1b",
   "metadata": {},
   "outputs": [
    {
     "name": "stdout",
     "output_type": "stream",
     "text": [
      "[2, 4, 6, 8, 10]\n",
      "[1, 3, 5, 7, 9]\n"
     ]
    }
   ],
   "source": [
    "#list even or odd number\n",
    "a=[1,2,3,4,5,6,7,8,9,10]\n",
    "even=[]\n",
    "odd=[]\n",
    "for i in a:\n",
    "    if i%2==0:\n",
    "        even.append(i)\n",
    "    else:\n",
    "        odd.append(i)\n",
    "print(even)\n",
    "print(odd)"
   ]
  },
  {
   "cell_type": "code",
   "execution_count": 114,
   "id": "ec2a7ff8-3693-4502-80b0-2f17f7f0f5bc",
   "metadata": {},
   "outputs": [
    {
     "name": "stdout",
     "output_type": "stream",
     "text": [
      "[12, 324, 12, 1234, 122]\n",
      "even sum= 1704\n",
      "[5321, 4215, 33, 4213]\n",
      "odd sum= 13782\n"
     ]
    }
   ],
   "source": [
    "#even odd sum\n",
    "g=[12,324,5321,12,4215,1234,122,33,4213]\n",
    "even=[]\n",
    "odd=[]\n",
    "evensum=0\n",
    "oddsum=0\n",
    "for i in g:\n",
    "    if i%2==0:\n",
    "        even.append(i)\n",
    "        evensum+=i\n",
    "        \n",
    "    else:\n",
    "        odd.append(i)\n",
    "        oddsum+=i\n",
    "print(even)\n",
    "print(\"even sum=\",evensum)\n",
    "print(odd)\n",
    "print(\"odd sum=\",oddsum)"
   ]
  },
  {
   "cell_type": "code",
   "execution_count": 122,
   "id": "8499fa86-adc2-4530-9bda-b40c50ff99f8",
   "metadata": {},
   "outputs": [
    {
     "name": "stdout",
     "output_type": "stream",
     "text": [
      "15\n"
     ]
    }
   ],
   "source": [
    "# sum of list\n",
    "t=[1,2,3,4,5]\n",
    "sum=0\n",
    "for i in t:\n",
    "    sum+=i\n",
    "print(sum)"
   ]
  },
  {
   "cell_type": "code",
   "execution_count": 154,
   "id": "2b8f1585-1495-44c7-adc3-f08605c88f5f",
   "metadata": {},
   "outputs": [
    {
     "name": "stdout",
     "output_type": "stream",
     "text": [
      "a\n",
      "1 * * * 2 * * * 3 * * * b\n",
      "1 * * * 2 * * * 3 * * * c\n",
      "1 * * * 2 * * * 3 * * * "
     ]
    }
   ],
   "source": [
    "# nested for loop\n",
    "for i in \"abc\":\n",
    "    print(i,)\n",
    "    for j in \"123\":\n",
    "        print(j,end=\" \")\n",
    "        for k in \"***\":\n",
    "            print(k,end=\" \")"
   ]
  },
  {
   "cell_type": "code",
   "execution_count": null,
   "id": "eb246773-91aa-479d-88e9-0857a8255020",
   "metadata": {},
   "outputs": [],
   "source": []
  },
  {
   "cell_type": "code",
   "execution_count": 194,
   "id": "24f7a817-d678-49bb-a244-b72f607e71c4",
   "metadata": {},
   "outputs": [
    {
     "name": "stdin",
     "output_type": "stream",
     "text": [
      "enter the name for finding index= prince\n"
     ]
    },
    {
     "name": "stdout",
     "output_type": "stream",
     "text": [
      "16 18 9 14 3 5 "
     ]
    }
   ],
   "source": [
    "a=\"abcdefghijklmnopqrstuvwxyz\"\n",
    "value=input(\"enter the name for finding index=\")\n",
    "for i in value:\n",
    "    if i in a:\n",
    "        t=a.index(i)\n",
    "        print(t+1,end=\" \")"
   ]
  },
  {
   "cell_type": "code",
   "execution_count": 241,
   "id": "309e2ba2-4df6-4f84-8b2c-265f9af5db8c",
   "metadata": {},
   "outputs": [
    {
     "name": "stdout",
     "output_type": "stream",
     "text": [
      "[23, [[1, 2, 3, 4, 5, 6, 7, 8, 9, 10]]]\n"
     ]
    }
   ],
   "source": [
    "#appending value in list \n",
    "a=[23,[[]]]\n",
    "for i in range(1,11):\n",
    "    a[1][0].append(i)\n",
    "print(a)"
   ]
  },
  {
   "cell_type": "code",
   "execution_count": null,
   "id": "3db6bf80-c00f-4144-8e18-e0a02f4e31d1",
   "metadata": {},
   "outputs": [],
   "source": []
  },
  {
   "cell_type": "code",
   "execution_count": null,
   "id": "33163046-cf91-4f4c-9f8e-a4eaa72a7311",
   "metadata": {},
   "outputs": [],
   "source": []
  }
 ],
 "metadata": {
  "kernelspec": {
   "display_name": "Python 3 (ipykernel)",
   "language": "python",
   "name": "python3"
  },
  "language_info": {
   "codemirror_mode": {
    "name": "ipython",
    "version": 3
   },
   "file_extension": ".py",
   "mimetype": "text/x-python",
   "name": "python",
   "nbconvert_exporter": "python",
   "pygments_lexer": "ipython3",
   "version": "3.12.4"
  }
 },
 "nbformat": 4,
 "nbformat_minor": 5
}
