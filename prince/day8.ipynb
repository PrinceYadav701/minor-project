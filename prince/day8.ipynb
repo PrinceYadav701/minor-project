{
 "cells": [
  {
   "cell_type": "code",
   "execution_count": 5,
   "id": "5b91b58a-adf1-447d-a466-a7a27b673daa",
   "metadata": {},
   "outputs": [
    {
     "name": "stdout",
     "output_type": "stream",
     "text": [
      "\t\t\tWelcome to season checker of your months:\n"
     ]
    },
    {
     "name": "stdin",
     "output_type": "stream",
     "text": [
      "Enter the name of a month:  march\n"
     ]
    },
    {
     "name": "stdout",
     "output_type": "stream",
     "text": [
      "The season for March is: Spring\n"
     ]
    }
   ],
   "source": [
    "def get_season(month):\n",
    "    month = month.lower()\n",
    "\n",
    "    if month in ['december', 'january', 'february']:\n",
    "        return 'Winter'\n",
    "    elif month in ['march', 'april', 'may']:\n",
    "        return 'Spring'\n",
    "    elif month in ['june', 'july', 'august']:\n",
    "        return 'Summer'\n",
    "    elif month in ['september', 'october', 'november']:\n",
    "        return 'Autumn'\n",
    "    else:\n",
    "        return 'Invalid month'\n",
    "print(\"\\t\\t\\tWelcome to season checker of your months:\")\n",
    "month_input = input(\"Enter the name of a month: \")\n",
    "season = get_season(month_input)\n",
    "print(f\"The season for {month_input.capitalize()} is: {season}\")"
   ]
  },
  {
   "cell_type": "code",
   "execution_count": null,
   "id": "f49e537c-bebd-4d5c-8068-fcc2a4e91b80",
   "metadata": {},
   "outputs": [],
   "source": []
  }
 ],
 "metadata": {
  "kernelspec": {
   "display_name": "Python 3 (ipykernel)",
   "language": "python",
   "name": "python3"
  },
  "language_info": {
   "codemirror_mode": {
    "name": "ipython",
    "version": 3
   },
   "file_extension": ".py",
   "mimetype": "text/x-python",
   "name": "python",
   "nbconvert_exporter": "python",
   "pygments_lexer": "ipython3",
   "version": "3.13.5"
  }
 },
 "nbformat": 4,
 "nbformat_minor": 5
}
