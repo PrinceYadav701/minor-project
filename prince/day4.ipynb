{
 "cells": [
  {
   "cell_type": "code",
   "execution_count": 14,
   "id": "ae07a588-294b-4e85-bf46-5e345013c20e",
   "metadata": {},
   "outputs": [
    {
     "name": "stdout",
     "output_type": "stream",
     "text": [
      "(10, 20, 30)\n",
      "<class 'list'>\n",
      "10\n",
      "[10, 20, 30, 40]\n",
      "(10, 20, 30, 40)\n"
     ]
    }
   ],
   "source": [
    "#tuple(typecasting)\n",
    "t=(10,20,30)\n",
    "print(t)\n",
    "y=list(t)\n",
    "print(type(y))\n",
    "print(y[0])\n",
    "# print(t[1])\n",
    "y.append(40)\n",
    "print(y)\n",
    "print(tuple(y))"
   ]
  },
  {
   "cell_type": "code",
   "execution_count": 22,
   "id": "4bfd8879-097a-4836-bb4f-904ea20b2b4b",
   "metadata": {},
   "outputs": [
    {
     "name": "stdout",
     "output_type": "stream",
     "text": [
      "{1, 2, 3, 4}\n",
      "1\n"
     ]
    }
   ],
   "source": [
    "#set and list is mutable\n",
    "#currly braces{}\n",
    "s2={1,1,2,3,4}#multiple elements not included\n",
    "print(s2)\n",
    "for i in s2:\n",
    "    if 1==i:\n",
    "        print(i)\n",
    "        break\n",
    "    else:\n",
    "        print(\"notfound\")\n",
    "        \n"
   ]
  },
  {
   "cell_type": "code",
   "execution_count": 30,
   "id": "556a1d08-82a2-4814-82ac-50b40b6e4665",
   "metadata": {},
   "outputs": [
    {
     "name": "stdout",
     "output_type": "stream",
     "text": [
      "{2, 3, 67, 4, 8}\n"
     ]
    }
   ],
   "source": [
    "#se tin built function\n",
    "s={2,3,4,5,67,8}\n",
    "s.remove(5)#if value not fined show error\n",
    "s.discard(10)#doesnot show error\n",
    "# print(s.pop(0))\n",
    "print(s)"
   ]
  },
  {
   "cell_type": "code",
   "execution_count": null,
   "id": "21449a57-cfd8-4898-b9b7-000ad102910e",
   "metadata": {},
   "outputs": [],
   "source": [
    "#API=application programming interface (includes json)\n",
    "# web strapping= collection data from different website\n"
   ]
  },
  {
   "cell_type": "code",
   "execution_count": 46,
   "id": "eb680257-2543-4c94-aa20-d6c934f142db",
   "metadata": {},
   "outputs": [
    {
     "name": "stdout",
     "output_type": "stream",
     "text": [
      "30\n",
      "alice\n",
      "25\n",
      "{'name': 'alice', 10: 25, 'age': [30, 40, 50]}\n",
      "dict_keys(['name', 10, 'age'])\n",
      "dict_values(['alice', 25, [30, 40, 50]])\n"
     ]
    }
   ],
   "source": [
    "#dictionary\n",
    "#allowed list,tuple,and string also\n",
    "d={'name':'alice',10:25,'age':[10,20,30]}\n",
    "print(d['age'][2])\n",
    "print(d['name'])\n",
    "print(d[10])\n",
    "#updation\n",
    "d['age']=[30,40,50]\n",
    "print(d)\n",
    "#accessing keys\n",
    "print(d.keys())\n",
    "#accessing values\n",
    "print(d.values())"
   ]
  },
  {
   "cell_type": "code",
   "execution_count": 40,
   "id": "68de5fcc-76f6-4247-ad29-ddf78a1f34e0",
   "metadata": {},
   "outputs": [
    {
     "name": "stdout",
     "output_type": "stream",
     "text": [
      "[10, 20, 30]\n"
     ]
    }
   ],
   "source": [
    "d={'name':'alice',10:25,'age':[10,20,30]}\n",
    "print(d.get('age'))\n"
   ]
  },
  {
   "cell_type": "code",
   "execution_count": 62,
   "id": "550a7a21-8bbe-4ef9-a08c-227fe17a2167",
   "metadata": {},
   "outputs": [
    {
     "name": "stdout",
     "output_type": "stream",
     "text": [
      "name\n",
      "10\n",
      "age\n",
      "['name', 10, 'age']\n",
      "['alice', 25, [10, 20, 30]]\n"
     ]
    }
   ],
   "source": [
    "#appending list in dictionary\n",
    "d={'name':'alice',10:25,'age':[10,20,30]}\n",
    "#appending keys in dictionary\n",
    "d1=[]\n",
    "for i in d:\n",
    "    print(i)\n",
    "    d1.append(i)\n",
    "print(d1)\n",
    "# appending for values\n",
    "g=[]\n",
    "for i in d:\n",
    "    y=d.get(i)\n",
    "    g.append(y)\n",
    "print(g)\n"
   ]
  },
  {
   "cell_type": "code",
   "execution_count": 118,
   "id": "0c7cbfe8-1948-4abf-aeea-1443b602fa49",
   "metadata": {},
   "outputs": [
    {
     "name": "stdout",
     "output_type": "stream",
     "text": [
      "marks of 5 students=[90, 33, 43, 53, 63]\n",
      "highest number=90\n",
      "lowest number=33\n",
      "Average number=56\n",
      "{'student1': 90, 'student2': 33, 'student3': 43, 'student4': 53, 'student5': 63}\n"
     ]
    }
   ],
   "source": [
    "# #Student Marks Management\n",
    "\n",
    "# 👉 Create a Python program to:\n",
    "# \t•\tStore student names as keys and marks as values in a dictionary.\n",
    "# \t•\tAllow adding new students with marks.\n",
    "# \t•\tAllow updating marks of existing students.\n",
    "# \t•\tDisplay highest, lowest, and average marks.\n",
    "# \t•\tShow all records.\n",
    "sum=0\n",
    "number={'student1':23,'student2':33,'student3':43,'student4':53}\n",
    "number['student5']=63# insertion\n",
    "number['student1']=90 #updation\n",
    "g=number.values()\n",
    "print(f'marks of 5 students={list(g)}')\n",
    "print(f'highest number={max(g)}')\n",
    "print(f'lowest number={min(g)}')\n",
    "for i in g:\n",
    "    sum+=i\n",
    "    avg= sum//5\n",
    "print(f'Average number={avg}')\n",
    "print(number)"
   ]
  },
  {
   "cell_type": "code",
   "execution_count": 122,
   "id": "83a52210-f815-46e7-b2de-c211913e7b99",
   "metadata": {},
   "outputs": [
    {
     "name": "stdout",
     "output_type": "stream",
     "text": [
      "{'name': ['yo', 'prince', 'honey'], 'age': [10, 20, 30]}\n"
     ]
    }
   ],
   "source": [
    "# updating values \n",
    "d={\"name\":['yo','bro','honey'],\"age\":[10,20,30]}\n",
    "d[\"name\"][1]=\"prince\"\n",
    "print(d)"
   ]
  },
  {
   "cell_type": "code",
   "execution_count": 129,
   "id": "84dbd608-875a-4f49-87bb-13e642a64c7c",
   "metadata": {},
   "outputs": [
    {
     "name": "stdout",
     "output_type": "stream",
     "text": [
      "raman\n",
      "done\n",
      "code done\n"
     ]
    }
   ],
   "source": [
    "# try and except explanation\n",
    "try:\n",
    "    print('raman')\n",
    "    # print(raman)\n",
    "except NameError:\n",
    "    print(\"error occured\")#run when error in try\n",
    "else:\n",
    "    print(\"done\")#run when try is correct\n",
    "finally:\n",
    "    print(\"code done\")# run everytime\n"
   ]
  },
  {
   "cell_type": "code",
   "execution_count": 15,
   "id": "6710efe1-40af-418e-a0f2-462977a3c78f",
   "metadata": {},
   "outputs": [
    {
     "name": "stdout",
     "output_type": "stream",
     "text": [
      "John\n",
      "36\n",
      "hello my name is John\n"
     ]
    }
   ],
   "source": [
    "class Person:\n",
    "     def __init__(self,name,age):#constructor-it is called automatically when object is called\n",
    "         self.name= name\n",
    "         self.age= age\n",
    "         \n",
    "     def myfunc(self):\n",
    "         print(\"hello my name is \" +self.name)\n",
    "\n",
    "         \n",
    "p1 = Person(\"John\",36)\n",
    "print(p1.name)\n",
    "print(p1.age)\n",
    "p1.myfunc()"
   ]
  },
  {
   "cell_type": "code",
   "execution_count": null,
   "id": "91522cd4-e500-414b-8a02-3cda5b17d26e",
   "metadata": {},
   "outputs": [
    {
     "name": "stdout",
     "output_type": "stream",
     "text": [
      "\t\t\t\t\t\t\t\t\t Welcome to hdfc bank\n",
      "\n",
      "1. Check Balance\n",
      "2. Deposit\n",
      "3. Withdraw\n",
      "4. Exit\n"
     ]
    },
    {
     "name": "stdin",
     "output_type": "stream",
     "text": [
      "Choose an option:  1\n"
     ]
    },
    {
     "name": "stdout",
     "output_type": "stream",
     "text": [
      "Balance: ₹ 50000\n",
      "\n",
      "1. Check Balance\n",
      "2. Deposit\n",
      "3. Withdraw\n",
      "4. Exit\n"
     ]
    },
    {
     "name": "stdin",
     "output_type": "stream",
     "text": [
      "Choose an option:  2\n",
      "Enter amount to deposit: ₹ 50000\n"
     ]
    },
    {
     "name": "stdout",
     "output_type": "stream",
     "text": [
      "Deposited ₹ 100000\n",
      "\n",
      "1. Check Balance\n",
      "2. Deposit\n",
      "3. Withdraw\n",
      "4. Exit\n"
     ]
    }
   ],
   "source": [
    "print(\"\\t\\t\\t\\t\\t\\t\\t\\t\\t Welcome to hdfc bank\")\n",
    "class ATM:\n",
    "    def __init__(self,balance):\n",
    "        self.balance=balance\n",
    "    def check_balance(self):\n",
    "     print(\"Balance: ₹\", self.balance)\n",
    "\n",
    "    def deposit(self):\n",
    "     amount = int(input(\"Enter amount to deposit: ₹\"))\n",
    "     self.balance += amount\n",
    "     print(\"Deposited ₹\", self.balance)\n",
    "    \n",
    "    def withdraw(self):\n",
    "     amount = int(input(\"Enter amount to withdraw: ₹\"))\n",
    "     if amount <= self.balance:\n",
    "        self.balance -= amount\n",
    "        print(\"Withdrawn ₹\", amount)\n",
    "     else:\n",
    "        print(\"Not enough balance!\")\n",
    "        \n",
    "    def atm(self):\n",
    "     while True:\n",
    "        print(\"\\n1. Check Balance\\n2. Deposit\\n3. Withdraw\\n4. Exit\")\n",
    "        choice = input(\"Choose an option: \")\n",
    "\n",
    "        if choice == '1':\n",
    "            self.check_balance()\n",
    "        elif choice == '2':\n",
    "            self.deposit()\n",
    "        elif choice == '3':\n",
    "            self.withdraw()\n",
    "        elif choice == '4':\n",
    "            print(\"Thank you! Visit again.\")\n",
    "            break\n",
    "        else:\n",
    "            print(\"Invalid option.\")\n",
    "atm_obj=ATM(balance=50000)\n",
    "atm_obj.atm()\n"
   ]
  },
  {
   "cell_type": "code",
   "execution_count": null,
   "id": "ca9e5542-f714-493b-ba0a-c878946021ac",
   "metadata": {},
   "outputs": [],
   "source": []
  }
 ],
 "metadata": {
  "kernelspec": {
   "display_name": "Python 3 (ipykernel)",
   "language": "python",
   "name": "python3"
  },
  "language_info": {
   "codemirror_mode": {
    "name": "ipython",
    "version": 3
   },
   "file_extension": ".py",
   "mimetype": "text/x-python",
   "name": "python",
   "nbconvert_exporter": "python",
   "pygments_lexer": "ipython3",
   "version": "3.12.4"
  }
 },
 "nbformat": 4,
 "nbformat_minor": 5
}
